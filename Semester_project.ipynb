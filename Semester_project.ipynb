{
  "nbformat": 4,
  "nbformat_minor": 0,
  "metadata": {
    "colab": {
      "name": "Semester project .ipynb",
      "provenance": [],
      "authorship_tag": "ABX9TyODR7InqOqdRnwWKRF5lYUV",
      "include_colab_link": true
    },
    "kernelspec": {
      "name": "python3",
      "display_name": "Python 3"
    },
    "language_info": {
      "name": "python"
    }
  },
  "cells": [
    {
      "cell_type": "markdown",
      "metadata": {
        "id": "view-in-github",
        "colab_type": "text"
      },
      "source": [
        "<a href=\"https://colab.research.google.com/github/Maestro213/Binomial_option_pricing_model/blob/main/Semester_project.ipynb\" target=\"_parent\"><img src=\"https://colab.research.google.com/assets/colab-badge.svg\" alt=\"Open In Colab\"/></a>"
      ]
    },
    {
      "cell_type": "markdown",
      "source": [
        "### Semester project\n",
        "## Modelling crypto asset price dynamics "
      ],
      "metadata": {
        "id": "isssXCjt8JPY"
      }
    },
    {
      "cell_type": "code",
      "source": [
        ""
      ],
      "metadata": {
        "id": "oijSYr-s8Vcd"
      },
      "execution_count": null,
      "outputs": []
    }
  ]
}